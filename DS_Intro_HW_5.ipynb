{
 "cells": [
  {
   "cell_type": "markdown",
   "metadata": {},
   "source": [
    "### Libraries:"
   ]
  },
  {
   "cell_type": "code",
   "execution_count": 2,
   "metadata": {},
   "outputs": [],
   "source": [
    "import os\n",
    "import pandas as pd\n",
    "import numpy as np\n",
    "import requests\n",
    "from bs4 import BeautifulSoup\n",
    "import urllib\n",
    "import json"
   ]
  },
  {
   "cell_type": "markdown",
   "metadata": {},
   "source": [
    "### Loading CSV file:"
   ]
  },
  {
   "cell_type": "code",
   "execution_count": 3,
   "metadata": {},
   "outputs": [
    {
     "name": "stdout",
     "output_type": "stream",
     "text": [
      "         city                           city_LP\n",
      "0     Antalya       mediterranean-coast/antalya\n",
      "1      Athens                            Athens\n",
      "2   Ayia-napa  the-republic-of-cyprus/Agia-napa\n",
      "3     Bangkok                           Bangkok\n",
      "4   Barcelona                         Barcelona\n",
      "..        ...                               ...\n",
      "71     Venice                            Venice\n",
      "72     Vienna                            Vienna\n",
      "73     Warsaw                            Warsaw\n",
      "74  Zakynthos                         Zakynthos\n",
      "75     Zurich                            Zurich\n",
      "\n",
      "[76 rows x 2 columns]\n"
     ]
    }
   ],
   "source": [
    "#os.chdir(\"C:/Users/ori/Desktop/txt_for_python/data\")\n",
    "\n",
    "data_file=\"destinations_LP_crawler_Ex5.csv\"\n",
    "data=pd.read_csv(data_file,encoding=(\"ISO-8859-1\"))\n",
    "print(data)"
   ]
  },
  {
   "cell_type": "markdown",
   "metadata": {},
   "source": [
    "### Geolocation"
   ]
  },
  {
   "cell_type": "code",
   "execution_count": 8,
   "metadata": {},
   "outputs": [
    {
     "name": "stdout",
     "output_type": "stream",
     "text": [
      "{'Antalya': ' Turkey', 'Athens': ' Greece', 'Ayia-napa': ' Cyprus', 'Bangkok': ' Thailand', 'Barcelona': ' Spain', 'Basel': ' Switzerland', 'Batumi': ' Georgia', 'Beijing': ' China', 'Berlin': ' Germany', 'Boston': ' USA', 'Bratislava': ' Slovakia', 'Brussels': ' Belgium', 'Bucharest': ' Romania', 'Budapest': ' Hungary', 'Burgas': ' Bulgaria', 'Cancun': ' Mexico', 'Catania': ' Italy', 'Chiang-mai': ' Thailand', 'Cologne': ' Germany', 'Corfu': ' Greece', 'Costa-Brava': ' Spain', 'Crete': ' Greece', 'krakow': ' Poland', 'Delhi': ' India', 'Dresden': ' Germany', 'Dublin': ' Ireland', 'Dubrovnik': ' Croatia', 'Dusseldorf': ' Germany', 'Florence': ' Italy', 'Frankfurt': ' Germany', 'Geneva': ' Switzerland', 'Guangzhou': ' China', 'Hamburg': ' Germany', 'Innsbruck': ' Austria', 'Istanbul': ' Turkey', 'Kos': ' Greece', 'Ko-samui': ' Thailand', 'Kyiv ukrain': ' 02000', 'LarnaKa': ' Cyprus', 'Las-Vegas': ' USA', 'Limassol': ' Cyprus', 'Lisbon': ' Portugal', 'Ljubljana': ' Slovenia', 'Los Angeles': ' USA', 'Madrid': ' Spain', 'Manila': ' Philippines', 'Marseille': ' France', 'Mexico-City': ' Mexico', 'Miami': ' USA', 'Milan': ' Italy', 'Moscow': ' Russia', 'mumbai-bombay': ' India', 'Munich': ' Germany', 'Mykonos': ' Greece', 'Naples Italy': ' Italy', 'Nice': ' France', 'Odesa': ' 65000', 'Paris': ' France', 'Phuket': ' Thailand', 'Rhodes': ' Greece', 'Rome': ' Italy', 'Salzburg': ' Austria', 'San-Francisco': ' USA', 'Shanghai': ' China', 'Sofia': ' Bulgaria', 'St-Petersburg Russia': ' Russia', 'Stuttgart': ' Germany', 'Taipei': ' Taiwan', 'Tbilisi': ' Georgia', 'Thessaloniki': ' Greece', 'Toronto': ' Canada', 'Venice': ' Italy', 'Vienna': ' Austria', 'Warsaw': ' Poland', 'Zakynthos': ' Greece', 'Zurich': ' Switzerland'}\n",
      "76\n"
     ]
    }
   ],
   "source": [
    "country={}\n",
    "#Api key:\n",
    "api_key =\"AIzaSblablablablablalbalbalblablablalblabxoQmNakbU\"\n",
    "\n",
    "for city in data.iloc:\n",
    "    address=city[0] #City\n",
    "    url_geo = \"https://maps.googleapis.com/maps/api/geocode/json?address=%s&key=%s\" % (address,api_key)\n",
    "    response = requests.get(url_geo)\n",
    "    try:\n",
    "        if not response.status_code == 200:\n",
    "            print(\"Error - API request didnt work\")\n",
    "        else:\n",
    "            response_data=response.json()\n",
    "            country[address]=response_data['results'][0]['formatted_address'].split(\",\")[-1]\n",
    "    except:\n",
    "        print(\"problema\")\n",
    "print(country) \n",
    "print(len(country))\n",
    "\n",
    "\n",
    "\n"
   ]
  },
  {
   "cell_type": "markdown",
   "metadata": {},
   "source": [
    "### DF with city and country"
   ]
  },
  {
   "cell_type": "code",
   "execution_count": 9,
   "metadata": {},
   "outputs": [
    {
     "name": "stdout",
     "output_type": "stream",
     "text": [
      "         city       country\n",
      "0     Antalya        Turkey\n",
      "1      Athens        Greece\n",
      "2   Ayia-napa        Cyprus\n",
      "3     Bangkok      Thailand\n",
      "4   Barcelona         Spain\n",
      "..        ...           ...\n",
      "71     Venice         Italy\n",
      "72     Vienna       Austria\n",
      "73     Warsaw        Poland\n",
      "74  Zakynthos        Greece\n",
      "75     Zurich   Switzerland\n",
      "\n",
      "[76 rows x 2 columns]\n"
     ]
    }
   ],
   "source": [
    "df=pd.DataFrame.from_dict(country, orient='index')\n",
    "df.reset_index(inplace=True)\n",
    "df.columns=[\"city\",\"country\"]\n",
    "print(df)\n",
    "df.loc[37,\"country\"]=\"ukraine\"\n",
    "df.loc[56,\"country\"]=\"ukraine\""
   ]
  },
  {
   "cell_type": "markdown",
   "metadata": {},
   "source": [
    "### List of URL and adding discription"
   ]
  },
  {
   "cell_type": "code",
   "execution_count": 10,
   "metadata": {},
   "outputs": [
    {
     "name": "stdout",
     "output_type": "stream",
     "text": [
      "76\n",
      "         city       country                                        Description\n",
      "0     Antalya        Turkey  Once seen simply as the gateway to the Turkish...\n",
      "1      Athens        Greece  With equal measures of grunge and grace, Athen...\n",
      "2   Ayia-napa        Cyprus  Endless blue-sky days and a coastline riddled ...\n",
      "3     Bangkok      Thailand  Same same, but different. This Thailish T-shir...\n",
      "4   Barcelona         Spain  Barcelona is an enchanting seaside city with b...\n",
      "..        ...           ...                                                ...\n",
      "71     Venice         Italy  Imagine the audacity of building a city of mar...\n",
      "72     Vienna       Austria  Baroque streetscapes and imperial palaces set ...\n",
      "73     Warsaw        Poland  A phoenix arisen from the ashes, Poland's capi...\n",
      "74  Zakynthos        Greece  Zakynthos, also known by its Italian name Zant...\n",
      "75     Zurich   Switzerland  Culturally vibrant, efficiently run and attrac...\n",
      "\n",
      "[76 rows x 3 columns]\n"
     ]
    }
   ],
   "source": [
    "discription_list=[]\n",
    "URL_list=[]\n",
    "lonely_planet=\"https://www.lonelyplanet.com/\"\n",
    "for i in range(len(df)):\n",
    "    url=lonely_planet+df[\"country\"][i].strip()+\"/\"+data[\"city_LP\"][i]\n",
    "    URL_list.append(url)\n",
    "    response_2=requests.get(url)\n",
    "    if not response_2.status_code == 200:\n",
    "        print(\"Error - scrapping didnt work \"+url)\n",
    "        print(i)\n",
    "    else:\n",
    "        soup = BeautifulSoup(response_2.content, 'html.parser')\n",
    "        discription=soup.find(\"div\",class_=\"readMore_content___5EuR relative overflow-hidden max-h-96 is-max wysiwyg\").get_text()\n",
    "        discription_list.append(discription)\n",
    "        \n",
    "print(len(discription_list))\n",
    "df[\"Description\"]=discription_list\n",
    "print(df)"
   ]
  }
 ],
 "metadata": {
  "kernelspec": {
   "display_name": "Python 3",
   "language": "python",
   "name": "python3"
  },
  "language_info": {
   "codemirror_mode": {
    "name": "ipython",
    "version": 3
   },
   "file_extension": ".py",
   "mimetype": "text/x-python",
   "name": "python",
   "nbconvert_exporter": "python",
   "pygments_lexer": "ipython3",
   "version": "3.8.3"
  }
 },
 "nbformat": 4,
 "nbformat_minor": 4
}
